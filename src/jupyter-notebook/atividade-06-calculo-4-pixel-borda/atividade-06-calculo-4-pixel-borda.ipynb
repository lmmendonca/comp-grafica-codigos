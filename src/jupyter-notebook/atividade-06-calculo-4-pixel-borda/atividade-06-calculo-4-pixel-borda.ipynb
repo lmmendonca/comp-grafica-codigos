{
  "cells": [
    {
      "cell_type": "code",
      "execution_count": null,
      "metadata": {
        "collapsed": true,
        "pycharm": {}
      },
      "outputs": [],
      "source": "import matplotlib.pyplot as plt\nfrom PIL import Image\nfrom pylab import *\nfrom numpy import *\n\ndef calculaMediaPexelBorda(img):\n    arr \u003d array(img)\n    \n    for i in range(len(arr)):\n        for j in range(len(arr[i])):\n            \n            b \u003d [\n                 getPixel(arr, i -1, j), \n                 getPixel(arr, i + 1, j),\n                 getPixel(arr, i, j -1),\n                 getPixel(arr, i, j+1)\n            ]\n            \n            a \u003d list(filter(lambda x: x is not None, b))\n            \n            arr[i][j] \u003d mediaSeparada(a)    \n            \n    return Image.fromarray(arr)\n                 \n            \n            \n            \ndef mediaSeparada(arr):\n    a,b,c \u003d 0,0,0\n    for i in range(len(arr)):\n        a +\u003d arr[i][0]\n        b +\u003d arr[i][1]\n        c +\u003d arr[i][2]\n    \n    return [a//len(arr), b//len(arr), c/len(arr)]\n            \n\ndef getPixel(im, i, j):\n    if i \u003c 0 or i \u003e len(im) -1:\n        return None\n    elif j \u003c 0 or j \u003e len(im[0])-1:\n        return None\n    else:\n        return im[i][j]\n\n        \n             "
    },
    {
      "cell_type": "code",
      "execution_count": null,
      "outputs": [],
      "source": "img \u003d Image.open(\u0027./src/images/campo.jpg\u0027)\ncalculaMediaPexelBorda(img)",
      "metadata": {
        "pycharm": {
          "metadata": false,
          "name": "#%%x\n"
        }
      }
    }
  ],
  "metadata": {
    "language_info": {
      "codemirror_mode": {
        "name": "ipython",
        "version": 2
      },
      "file_extension": ".py",
      "mimetype": "text/x-python",
      "name": "python",
      "nbconvert_exporter": "python",
      "pygments_lexer": "ipython2",
      "version": "2.7.6"
    },
    "kernelspec": {
      "name": "python3",
      "language": "python",
      "display_name": "Python 3"
    }
  },
  "nbformat": 4,
  "nbformat_minor": 0
}