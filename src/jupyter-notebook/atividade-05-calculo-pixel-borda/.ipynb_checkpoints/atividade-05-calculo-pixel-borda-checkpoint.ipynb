{
 "cells": [
  {
   "cell_type": "code",
   "execution_count": 1,
   "metadata": {
    "pycharm": {
     "is_executing": false
    }
   },
   "outputs": [],
   "source": [
    "\n",
    "from PIL import Image\n",
    "from numpy import *\n",
    "\n",
    "def calculaMediaPexelBorda(img):\n",
    "    arr = array(img)\n",
    "    \n",
    "    for i in range(len(arr)):\n",
    "        for j in range(len(arr[i])):\n",
    "            \n",
    "            b = [\n",
    "                 getPixel(arr, i -1, j), \n",
    "                 getPixel(arr, i + 1, j),\n",
    "                 getPixel(arr, i, j -1),\n",
    "                 getPixel(arr, i, j+1), \n",
    "                getPixel(arr, i-1, j-1),\n",
    "                getPixel(arr, i-1, j+1),\n",
    "                getPixel(arr, i+1, j-1),\n",
    "                getPixel(arr, i+1, j+1),\n",
    "            ]\n",
    "            \n",
    "            a = list(filter(lambda x: x is not None, b))\n",
    "            \n",
    "            arr[i][j] = mediaSeparada(a)    \n",
    "            \n",
    "    return Image.fromarray(arr)\n",
    "                 \n",
    "            \n",
    "            \n",
    "            \n",
    "def mediaSeparada(arr):\n",
    "    a,b,c = 0,0,0\n",
    "    for i in range(len(arr)):\n",
    "        a += arr[i][0]\n",
    "        b += arr[i][1]\n",
    "        c += arr[i][2]\n",
    "    \n",
    "    return [a//len(arr), b//len(arr), c/len(arr)]\n",
    "            \n",
    "\n",
    "def getPixel(im, i, j):\n",
    "    if i < 0 or i > len(im) -1:\n",
    "        return None\n",
    "    elif j < 0 or j > len(im[0])-1:\n",
    "        return None\n",
    "    else:\n",
    "        return im[i][j]\n",
    "\n",
    "        \n",
    "             "
   ]
  },
  {
   "cell_type": "code",
   "execution_count": 2,
   "metadata": {
    "pycharm": {
     "is_executing": false,
     "metadata": false,
     "name": "#%%x\n"
    }
   },
   "outputs": [
    {
     "ename": "FileNotFoundError",
     "evalue": "[Errno 2] No such file or directory: './src/images/campo.jpg'",
     "output_type": "error",
     "traceback": [
      "\u001b[0;31m---------------------------------------------------------------------------\u001b[0m",
      "\u001b[0;31mFileNotFoundError\u001b[0m                         Traceback (most recent call last)",
      "\u001b[0;32m<ipython-input-2-54e637e54abe>\u001b[0m in \u001b[0;36m<module>\u001b[0;34m\u001b[0m\n\u001b[0;32m----> 1\u001b[0;31m \u001b[0mimg\u001b[0m \u001b[0;34m=\u001b[0m \u001b[0mImage\u001b[0m\u001b[0;34m.\u001b[0m\u001b[0mopen\u001b[0m\u001b[0;34m(\u001b[0m\u001b[0;34m'./src/images/campo.jpg'\u001b[0m\u001b[0;34m)\u001b[0m\u001b[0;34m\u001b[0m\u001b[0;34m\u001b[0m\u001b[0m\n\u001b[0m\u001b[1;32m      2\u001b[0m \u001b[0mcalculaMediaPexelBorda\u001b[0m\u001b[0;34m(\u001b[0m\u001b[0mimg\u001b[0m\u001b[0;34m)\u001b[0m\u001b[0;34m\u001b[0m\u001b[0;34m\u001b[0m\u001b[0m\n",
      "\u001b[0;32m/usr/local/lib/python3.7/site-packages/PIL/Image.py\u001b[0m in \u001b[0;36mopen\u001b[0;34m(fp, mode)\u001b[0m\n\u001b[1;32m   2632\u001b[0m \u001b[0;34m\u001b[0m\u001b[0m\n\u001b[1;32m   2633\u001b[0m     \u001b[0;32mif\u001b[0m \u001b[0mfilename\u001b[0m\u001b[0;34m:\u001b[0m\u001b[0;34m\u001b[0m\u001b[0;34m\u001b[0m\u001b[0m\n\u001b[0;32m-> 2634\u001b[0;31m         \u001b[0mfp\u001b[0m \u001b[0;34m=\u001b[0m \u001b[0mbuiltins\u001b[0m\u001b[0;34m.\u001b[0m\u001b[0mopen\u001b[0m\u001b[0;34m(\u001b[0m\u001b[0mfilename\u001b[0m\u001b[0;34m,\u001b[0m \u001b[0;34m\"rb\"\u001b[0m\u001b[0;34m)\u001b[0m\u001b[0;34m\u001b[0m\u001b[0;34m\u001b[0m\u001b[0m\n\u001b[0m\u001b[1;32m   2635\u001b[0m         \u001b[0mexclusive_fp\u001b[0m \u001b[0;34m=\u001b[0m \u001b[0;32mTrue\u001b[0m\u001b[0;34m\u001b[0m\u001b[0;34m\u001b[0m\u001b[0m\n\u001b[1;32m   2636\u001b[0m \u001b[0;34m\u001b[0m\u001b[0m\n",
      "\u001b[0;31mFileNotFoundError\u001b[0m: [Errno 2] No such file or directory: './src/images/campo.jpg'"
     ]
    }
   ],
   "source": [
    "img = Image.open('./src/images/campo.jpg')\n",
    "calculaMediaPexelBorda(img)"
   ]
  },
  {
   "cell_type": "code",
   "execution_count": null,
   "metadata": {},
   "outputs": [],
   "source": []
  }
 ],
 "metadata": {
  "kernelspec": {
   "display_name": "Python 3",
   "language": "python",
   "name": "python3"
  },
  "language_info": {
   "codemirror_mode": {
    "name": "ipython",
    "version": 3
   },
   "file_extension": ".py",
   "mimetype": "text/x-python",
   "name": "python",
   "nbconvert_exporter": "python",
   "pygments_lexer": "ipython3",
   "version": "3.7.3"
  }
 },
 "nbformat": 4,
 "nbformat_minor": 1
}
